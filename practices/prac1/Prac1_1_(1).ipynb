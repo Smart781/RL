{
  "nbformat": 4,
  "nbformat_minor": 0,
  "metadata": {
    "colab": {
      "provenance": []
    },
    "kernelspec": {
      "name": "python3",
      "display_name": "Python 3"
    },
    "language_info": {
      "name": "python"
    }
  },
  "cells": [
    {
      "cell_type": "markdown",
      "source": [
        "# RL basics\n",
        "\n",
        "Термины и понятия:\n",
        "\n",
        "- агент/среда\n",
        "- наблюдение $o$ / состояние $s$\n",
        "- действие $a$, стратегия $\\pi: \\pi(s) \\rightarrow a$ функция перехода $T: T(s, a) \\rightarrow s'$\n",
        "- вознаграждение $r$, ф-я вознаграждений $R: R(s, a) \\rightarrow r$\n",
        "- цикл взаимодействия, траектория $\\tau: (s_0, a_0, r_0, s_1, a_1, r_1, ..., s_T, a_T, r_T)$, эпизод\n",
        "- отдача $G$, подсчет отдачи, средняя[/ожидаемая] отдача $\\mathbb{E}[G]$"
      ],
      "metadata": {
        "id": "k4NMHBq16Y_g"
      }
    },
    {
      "cell_type": "code",
      "source": [
        "try:\n",
        "    import google.colab\n",
        "    COLAB = True\n",
        "except ModuleNotFoundError:\n",
        "    COLAB = False\n",
        "    pass\n",
        "\n",
        "if COLAB:\n",
        "    !pip -q install \"gymnasium[classic-control, atari, accept-rom-license]\"\n",
        "    !pip -q install piglet\n",
        "    !pip -q install imageio_ffmpeg\n",
        "    !pip -q install moviepy==1.0.3"
      ],
      "metadata": {
        "id": "MoNP7Wdn6aP0",
        "colab": {
          "base_uri": "https://localhost:8080/"
        },
        "outputId": "4bbeba76-076a-4846-c914-68b663ce9e24"
      },
      "execution_count": 64,
      "outputs": [
        {
          "output_type": "stream",
          "name": "stdout",
          "text": [
            "\u001b[33mWARNING: gymnasium 1.2.0 does not provide the extra 'accept-rom-license'\u001b[0m\u001b[33m\n",
            "\u001b[0m"
          ]
        }
      ]
    },
    {
      "cell_type": "code",
      "source": [
        "import glob\n",
        "import io\n",
        "import base64\n",
        "import gymnasium as gym\n",
        "import numpy as np\n",
        "from IPython import display as ipythondisplay\n",
        "from IPython.display import HTML\n",
        "import matplotlib.pyplot as plt\n",
        "%matplotlib inline"
      ],
      "metadata": {
        "id": "9JPaLF5v6esZ"
      },
      "execution_count": 65,
      "outputs": []
    },
    {
      "cell_type": "markdown",
      "source": [
        "## Agent, environment\n",
        "\n",
        "<img src=https://gymnasium.farama.org/_images/lunar_lander.gif caption=\"lunar lander\" width=\"150\" height=\"50\"><img src=https://gymnasium.farama.org/_images/mountain_car.gif caption=\"mountain car\" width=\"150\" height=\"50\">\n",
        "<img src=https://gymnasium.farama.org/_images/cliff_walking.gif caption=\"cliff walking\" width=\"300\" height=\"50\">\n",
        "<img src=https://ale.farama.org/_images/montezuma_revenge.gif caption=\"montezuma revenge\" width=\"150\" height=\"100\">\n",
        "<img src=https://github.com/danijar/crafter/raw/main/media/video.gif caption=\"crafter\" width=\"150\" height=\"100\">\n",
        "<img src=https://camo.githubusercontent.com/6df2ca438d8fe8aa7a132b859315147818c54af608f8609320c3c20e938acf48/68747470733a2f2f6d656469612e67697068792e636f6d2f6d656469612f344e78376759694d394e44724d724d616f372f67697068792e676966 caption=\"malmo minecraft\" width=\"150\" height=\"100\">\n",
        "<img src=https://images.ctfassets.net/kftzwdyauwt9/e0c0947f-1a44-4528-4a41450a9f0a/2d0e85871d58d02dbe01b2469d693d4a/table-03.gif caption=\"roboschool\" width=\"150\" height=\"100\">\n",
        "<img src=https://raw.githubusercontent.com/Tviskaron/mipt/master/2019/RL/02/mdp.png caption=\"Марковский процесс принятия решений\" width=\"150\" height=\"100\">\n",
        "<img src=https://minigrid.farama.org/_images/DoorKeyEnv.gif caption=\"minigrid\" width=\"120\" height=\"120\">"
      ],
      "metadata": {
        "id": "OGAoJeNF6hJO"
      }
    },
    {
      "cell_type": "markdown",
      "source": [
        "## Observation, state\n",
        "\n",
        "TODO:\n",
        "- добавить примеры наблюдений/состояний (числа, векторы, картинки)\n",
        "- интуитивное объяснение различия, положить пока, что наблюдение = состояние\n",
        "- пространство состояний\n",
        "\n",
        "\n",
        "В каждый момент времени среда имеет некоторое внутреннее состояние. Здесь слово \"состояние\" я употребил скорее в интуитивном понимании, чтобы обозначить, что среда изменчива (иначе какой смысл с ней взаимодействовать, если ничего не меняется). В обучении с подкреплением под термином состояние $s$ (или $s_t$, где $t$ — текущее время) подразумевают либо абстрактно информацию о \"состоянии\" среды, либо ее явное представление в виде данных, достаточные для полного описания \"состояния\". *NB: Здесь можно провести аналогию с компьютерными играми — файл сохранения игры как раз содержит информацию о \"состоянии\" мира игры, чтобы в будущем можно было продолжить с текущей точки, так что данные этого файла в целом можно с некоторой натяжкой считать состоянием (с натяжкой, потому что редко когда в сложных играх файлы сохранения содержат прямо вот всю информацию, так что после перезагрузки вы получите не совсем точную копию). При этом обычно подразумевается, что состояние не содержит в себе ничего лишнего, то есть это **минимальный** набор информации.*\n",
        "\n",
        "Наблюдением $o$ называют то, что агент \"видит\" о текущем состоянии среды. Это не обязательно зрение, а вообще вся доступная ему информация (условно, со всех его органов чувств).\n",
        "\n",
        "В общем случае наблюдение: кортеж/словарь многомерных векторов чисел."
      ],
      "metadata": {
        "id": "dcyLKga76mA_"
      }
    },
    {
      "cell_type": "code",
      "source": [
        "print(gym.make(\"CartPole-v0\").reset()[0].shape)\n",
        "print(gym.make(\"MountainCar-v0\").reset()[0].shape)"
      ],
      "metadata": {
        "id": "ypHv9w6i6pcX",
        "colab": {
          "base_uri": "https://localhost:8080/"
        },
        "outputId": "0747ffdb-a32a-42a0-831c-3e678b911fa4"
      },
      "execution_count": 66,
      "outputs": [
        {
          "output_type": "stream",
          "name": "stdout",
          "text": [
            "(4,)\n",
            "(2,)\n"
          ]
        },
        {
          "output_type": "stream",
          "name": "stderr",
          "text": [
            "/usr/local/lib/python3.12/dist-packages/gymnasium/envs/registration.py:512: DeprecationWarning: \u001b[33mWARN: The environment CartPole-v0 is out of date. You should consider upgrading to version `v1`.\u001b[0m\n",
            "  logger.deprecation(\n"
          ]
        }
      ]
    },
    {
      "cell_type": "markdown",
      "source": [
        "## Action, policy, transition function\n",
        "\n",
        "Рассмотрим следующие MDP:\n",
        "\n",
        "- A: <img src=https://i.ibb.co/mrCMVZLQ/mdp-a.png caption=\"A\" width=\"400\" height=\"100\">\n",
        "- B: <img src=https://i.ibb.co/GQ2tVtjC/mdp-b.png caption=\"B\" width=\"400\" height=\"100\">\n",
        "\n",
        "Links to all:\n",
        "[A](https://i.ibb.co/mrCMVZLQ/mdp-a.png)\n",
        "[B](https://i.ibb.co/GQ2tVtjC/mdp-b.png)\n",
        "[C](https://i.ibb.co/Jj9LYHjP/mdp-c.png)\n",
        "[D](https://i.ibb.co/Y47Mr83b/mdp-d.png)\n",
        "[E](https://i.ibb.co/Kjt1Xhmf/mdp-e.png)\n",
        "\n",
        "Давайте явно запишем пространства состояний $S$ и действий $A$, а также функцию перехода $T$ среды."
      ],
      "metadata": {
        "id": "GabuCLcJ67lb"
      }
    },
    {
      "cell_type": "code",
      "source": [
        "states_a = set(range(3))\n",
        "actions_a = set(range(1))\n",
        "T_a = {\n",
        "    (0, 0): 1,\n",
        "    (1, 0): 2,\n",
        "    (2, 0): 2\n",
        "}\n",
        "\n",
        "states_b = set(range(4))\n",
        "actions_b = set(range(3))\n",
        "T_b = {\n",
        "    (0, 0): 1, (0, 1): 2, (0, 2): 0,\n",
        "    (1, 0): 1, (1, 1): 1, (1, 2): 1,\n",
        "    (2, 0): 2, (2, 1): 2, (2, 2): 2,\n",
        "    (3, 0): 3, (3, 1): 3, (3, 2): 3\n",
        "}\n",
        "\n",
        "states_c = set(range(4))\n",
        "actions_c = set(range(2))\n",
        "T_c = {\n",
        "    (0, 0): 1, (0, 1): 2,\n",
        "    (1, 0): 1, (1, 1): 3,\n",
        "    (2, 0): 3, (2, 1): 2,\n",
        "    (3, 0): 3, (3, 1): 3\n",
        "}\n",
        "\n",
        "states_d = set(range(3))\n",
        "actions_d = set(range(1))\n",
        "T_d = {\n",
        "    (0, 0): [0.2, 0.8, 0.0],\n",
        "    (1, 0): [0.0, 0.3, 0.7],\n",
        "    (2, 0): [0.0, 0.0, 1.0],\n",
        "}\n",
        "\n",
        "states_e = set(range(4))\n",
        "actions_e = set(range(2))\n",
        "T_e = {\n",
        "    (0, 0): [0.0, 0.8, 0.2, 0.0], (0, 1): [0.0, 0.1, 0.9, 0.0],\n",
        "    (1, 0): [0.0, 0.2, 0.0, 0.8], (1, 1): [0.0, 0.0, 1.0, 0.0], # or ..., (1, 1): 2\n",
        "    (2, 0): [0.0, 1.0, 0.0, 0.0], (2, 1): [0.0, 0.0, 0.3, 0.7], # or (2, 0): 1, ...\n",
        "    (3, 0): [0.0, 0.0, 0.0, 1.0], (3, 1): [0.0, 0.0, 0.0, 1.0], # or (3, 0): 3, (3, 1): 3\n",
        "}"
      ],
      "metadata": {
        "id": "4XpqNc_o6_CS"
      },
      "execution_count": 68,
      "outputs": []
    },
    {
      "cell_type": "markdown",
      "source": [
        "Попробуйте записать функцию перехода в матричном виде:"
      ],
      "metadata": {
        "id": "KlqB4WcZ7CDK"
      }
    },
    {
      "cell_type": "code",
      "source": [
        "P_a = np.array([\n",
        "    [0.0, 1.0, 0.0],\n",
        "    [0.0, 0.0, 1.0],\n",
        "    [0.0, 0.0, 1.0]\n",
        "])\n",
        "P_b = np.array([\n",
        "    [0.0, 1/3, 1/3, 1/3],\n",
        "    [0.0, 1.0, 0.0, 0.0],\n",
        "    [0.0, 0.0, 1.0, 0.0],\n",
        "    [0.0, 0.0, 0.0, 1.0]\n",
        "])\n",
        "P_c = np.array([\n",
        "    [0.0, 1/2, 1/2, 0.0],\n",
        "    [0.0, 1/2, 0.0, 1/2],\n",
        "    [0.0, 0.0, 1/2, 1/2],\n",
        "    [0.0, 0.0, 0.0, 1.0]\n",
        "])\n",
        "P_d = np.array([\n",
        "    [0.2, 0.8, 0.0],\n",
        "    [0.0, 0.3, 0.7],\n",
        "    [0.0, 0.0, 1.0],\n",
        "])\n",
        "P_e = np.array([\n",
        "    [0.0, 0.45, 0.55, 0.0],\n",
        "    [0.0, 0.1, 0.5, 0.4],\n",
        "    [0.0, 0.5, 0.15, 0.35],\n",
        "    [0.0, 0.0, 0.0, 1.0]\n",
        "])"
      ],
      "metadata": {
        "id": "jmg8hnng7EnJ"
      },
      "execution_count": 69,
      "outputs": []
    },
    {
      "cell_type": "markdown",
      "source": [
        "Как получить вероятность нахождения агента в состоянии (1) через N шагов? Что происходит с вероятностями нахождения в состояниях при $N \\rightarrow \\infty$"
      ],
      "metadata": {
        "id": "_FPshg_07G0R"
      }
    },
    {
      "cell_type": "code",
      "source": [
        "def P_N_steps(p0: np.array, P: np.array, N: int) -> np.array:\n",
        "    return p0 @ np.linalg.matrix_power(P, N)\n",
        "# Пусть у нас первоначальное распределение между состояниями - равномерно, тогда\n",
        "print('A: ', P_N_steps([1/3, 1/3, 1/3], P_a, 10000))\n",
        "print('B: ', P_N_steps([1/4, 1/4, 1/4, 1/4], P_b, 10000))\n",
        "print('C: ', P_N_steps([1/4, 1/4, 1/4, 1/4], P_c, 10000))\n",
        "print('D: ', P_N_steps([1/3, 1/3, 1/3], P_d, 10000))\n",
        "print('E: ', P_N_steps([1/4, 1/4, 1/4, 1/4], P_e, 10000))"
      ],
      "metadata": {
        "id": "9pwc4Atn7IAf",
        "colab": {
          "base_uri": "https://localhost:8080/"
        },
        "outputId": "c941a503-4c7e-4be4-da69-2b5becc0a4bd"
      },
      "execution_count": 70,
      "outputs": [
        {
          "output_type": "stream",
          "name": "stdout",
          "text": [
            "A:  [0. 0. 1.]\n",
            "B:  [0.         0.33333333 0.33333333 0.33333333]\n",
            "C:  [0. 0. 0. 1.]\n",
            "D:  [0. 0. 1.]\n",
            "E:  [0. 0. 0. 1.]\n"
          ]
        }
      ]
    },
    {
      "cell_type": "markdown",
      "source": [
        "Итак, во всех средах, кроме B, вероятность оказаться в состоянии 1 стремится к нулю"
      ],
      "metadata": {
        "id": "z8vGYMAEUL12"
      }
    },
    {
      "cell_type": "markdown",
      "source": [
        "Давайте попробуем задать двух агентов: случайного и оптимального (для каждой среды свой)."
      ],
      "metadata": {
        "id": "AiU5X4DH7TaG"
      }
    },
    {
      "cell_type": "code",
      "source": [
        "class Agent:\n",
        "    def __init__(self, actions):\n",
        "        self.rng = np.random.default_rng()\n",
        "        self.actions = np.array(list(actions))\n",
        "\n",
        "    def act(self, state):\n",
        "        return self.rng.integers(len(self.actions))\n",
        "\n",
        "class OptimalAgentA:\n",
        "    def __init__(self, actions):\n",
        "        self.actions = np.array(list(actions))\n",
        "\n",
        "    def act(self, state):\n",
        "        return 0\n",
        "\n",
        "class OptimalAgentB:\n",
        "    def __init__(self, actions):\n",
        "        self.actions = np.array(list(actions))\n",
        "\n",
        "    def act(self, state):\n",
        "        return 1\n",
        "\n",
        "class OptimalAgentC:\n",
        "    def __init__(self, actions):\n",
        "        self.actions = np.array(list(actions))\n",
        "\n",
        "    def act(self, state):\n",
        "        if state == 0: return 0\n",
        "        if state == 1: return 1\n",
        "        if state == 2: return 0"
      ],
      "metadata": {
        "id": "It2waXJi7WWN"
      },
      "execution_count": 92,
      "outputs": []
    },
    {
      "cell_type": "markdown",
      "source": [
        "В качестве дополнения, запишите стратегию агента"
      ],
      "metadata": {
        "id": "VH6uo4EP7ZqB"
      }
    },
    {
      "cell_type": "markdown",
      "source": [
        "## Reward, reward function\n",
        "\n",
        "Теперь добавим произвольную функцию вознаграждения. Например, для A:"
      ],
      "metadata": {
        "id": "XGx2-KeH7lL4"
      }
    },
    {
      "cell_type": "code",
      "source": [
        "R_a = {(0, 0): -0.1, (1, 0): 1.0, (2, 0): 0.0}\n",
        "\n",
        "R_b = {\n",
        "    (0, 0): 0.0, (0, 1): 1.0, (0, 2): 0.0,\n",
        "    (1, 0): 0.0, (1, 1): 0.0, (1, 2): 0.0,\n",
        "    (2, 0): 0.0, (2, 1): 0.0, (2, 2): 0.0,\n",
        "    (3, 0): 0.0, (3, 1): 0.0, (3, 2): 0.0,\n",
        "}\n",
        "\n",
        "R_c = {\n",
        "    (0, 0): -0.1, (0, 1): +0.1,\n",
        "    (1, 0): -0.5, (1, 1): +1.0,\n",
        "    (2, 0): -0.1, (2, 1): -0.5,\n",
        "    (3, 0): 0.0, (3, 1): 0.0,\n",
        "}"
      ],
      "metadata": {
        "id": "fk7umEnA7oFv"
      },
      "execution_count": 72,
      "outputs": []
    },
    {
      "cell_type": "code",
      "source": [
        "terminal_states_a = {2}\n",
        "terminal_states_b = {1, 2, 3}\n",
        "terminal_states_c = {3}"
      ],
      "metadata": {
        "id": "MXNE-uwq3XuB"
      },
      "execution_count": 74,
      "outputs": []
    },
    {
      "cell_type": "code",
      "source": [
        "A_mdp = states_a, actions_a, T_a, R_a, terminal_states_a\n",
        "B_mdp = states_b, actions_b, T_b, R_b, terminal_states_b\n",
        "C_mdp = states_c, actions_c, T_c, R_c, terminal_states_c"
      ],
      "metadata": {
        "id": "ZnFUAvpT3cUm"
      },
      "execution_count": 75,
      "outputs": []
    },
    {
      "cell_type": "markdown",
      "source": [
        "## Interaction loop, trajectory, termination, truncation, episode\n",
        "\n",
        "Общий цикл взаимодействия в рамках эпизода:\n",
        "1. Инициализировать среду: $s \\leftarrow \\text{env.init()}$\n",
        "2. Цикл:\n",
        "    - выбрать действие: $a \\leftarrow \\pi(s)$\n",
        "    - получить ответ от среды: $s, r, d \\leftarrow \\text{env.next(a)}$\n",
        "    - если $d == \\text{True}$, выйти из цикла"
      ],
      "metadata": {
        "id": "j92TZ1l67rVh"
      }
    },
    {
      "cell_type": "code",
      "source": [
        "def run_episode(mdp):\n",
        "    states, actions, T, R, terminal_states = mdp\n",
        "    agent = Agent(actions)\n",
        "\n",
        "    s = 0\n",
        "    tau = []\n",
        "    for _ in range(5):\n",
        "        a = agent.act(s)\n",
        "        s_next = T[(s, a)]\n",
        "        r = R[(s, a)]\n",
        "\n",
        "        tau.append((s, a, r))\n",
        "        s = s_next\n",
        "\n",
        "    return tau\n",
        "\n",
        "run_episode(A_mdp)"
      ],
      "metadata": {
        "id": "MRPZACJt7vG8",
        "colab": {
          "base_uri": "https://localhost:8080/"
        },
        "outputId": "20137cd4-f7ea-4812-bf5c-56445b2b083e"
      },
      "execution_count": 83,
      "outputs": [
        {
          "output_type": "execute_result",
          "data": {
            "text/plain": [
              "[(0, np.int64(0), -0.1),\n",
              " (1, np.int64(0), 1.0),\n",
              " (2, np.int64(0), 0.0),\n",
              " (2, np.int64(0), 0.0),\n",
              " (2, np.int64(0), 0.0)]"
            ]
          },
          "metadata": {},
          "execution_count": 83
        }
      ]
    },
    {
      "cell_type": "markdown",
      "source": [
        "Termination — означает окончание эпизода, когда достигнуто терминальное состояние. Является частью задания среды.\n",
        "\n",
        "Truncation — означает окончание эпизода, когда достигнут лимит по числу шагов (=времени). Обычно является внешне заданным параметром для удобства обучения.\n",
        "\n",
        "Пока не будем вводить truncation, но поддержим termination: расширьте определение среды информацией о терминальных состояниях для всех описанных ранее сред. Сгенерируйте по несколько случайных траекторий для каждой среды."
      ],
      "metadata": {
        "id": "wbGEr8kl7xnS"
      }
    },
    {
      "cell_type": "code",
      "source": [
        "def run_episode_with_policy(mdp, strategy=\"random\", truncation=10):\n",
        "    states, actions, T, R, terminal_states = mdp\n",
        "\n",
        "    if strategy == \"random\":\n",
        "        agent = Agent(actions)\n",
        "    else:\n",
        "        if mdp == A_mdp:\n",
        "            agent = OptimalAgentA(actions)\n",
        "        elif mdp == B_mdp:\n",
        "            agent = OptimalAgentB(actions)\n",
        "        elif mdp == C_mdp:\n",
        "            agent = OptimalAgentC(actions)\n",
        "\n",
        "    s = 0\n",
        "    tau = []\n",
        "    for step in range(truncation):\n",
        "        a = agent.act(s)\n",
        "        s_next = T[(s, a)]\n",
        "        r = R[(s, a)]\n",
        "        terminated = (s_next in terminal_states)\n",
        "\n",
        "        tau.append((s, a, r, s_next, terminated))\n",
        "        s = s_next\n",
        "        if terminated: break\n",
        "\n",
        "    return tau"
      ],
      "metadata": {
        "id": "rXCh386v0ceP"
      },
      "execution_count": 85,
      "outputs": []
    },
    {
      "cell_type": "code",
      "source": [
        "# Тестируем случайного агента для всех сред\n",
        "print(\"Случайные агенты\")\n",
        "for env_name, mdp in [(\"A\", A_mdp), (\"B\", B_mdp), (\"C\", C_mdp)]:\n",
        "    print(f\"\\nСреда {env_name}:\")\n",
        "    for i in range(5):\n",
        "        tau = run_episode_with_policy(mdp, strategy=\"random\", truncation=10)\n",
        "        total_reward = sum(r for _,_,r,_,_ in tau)\n",
        "        print(f\"  Траектория {i+1}: {len(tau)} шагов, награда: {total_reward:.1f}\")\n",
        "\n",
        "print(\"\\nОптимальные агенты\")\n",
        "for env_name, mdp in [(\"A\", A_mdp), (\"B\", B_mdp), (\"C\", C_mdp)]:\n",
        "    tau = run_episode_with_policy(mdp, strategy=\"optimal\", truncation=10)\n",
        "    total_reward = sum(r for _,_,r,_,_ in tau)\n",
        "    print(f\"Среда {env_name}: {len(tau)} шагов, награда: {total_reward:.1f}\")"
      ],
      "metadata": {
        "colab": {
          "base_uri": "https://localhost:8080/"
        },
        "id": "KBWHfvrZ4jSu",
        "outputId": "4fc172bb-c8dd-41ca-fd8f-494cfccf8c9f"
      },
      "execution_count": 93,
      "outputs": [
        {
          "output_type": "stream",
          "name": "stdout",
          "text": [
            "Случайные агенты\n",
            "\n",
            "Среда A:\n",
            "  Траектория 1: 2 шагов, награда: 0.9\n",
            "  Траектория 2: 2 шагов, награда: 0.9\n",
            "  Траектория 3: 2 шагов, награда: 0.9\n",
            "  Траектория 4: 2 шагов, награда: 0.9\n",
            "  Траектория 5: 2 шагов, награда: 0.9\n",
            "\n",
            "Среда B:\n",
            "  Траектория 1: 1 шагов, награда: 0.0\n",
            "  Траектория 2: 1 шагов, награда: 1.0\n",
            "  Траектория 3: 2 шагов, награда: 0.0\n",
            "  Траектория 4: 3 шагов, награда: 0.0\n",
            "  Траектория 5: 3 шагов, награда: 0.0\n",
            "\n",
            "Среда C:\n",
            "  Траектория 1: 4 шагов, награда: -1.0\n",
            "  Траектория 2: 3 шагов, награда: -0.5\n",
            "  Траектория 3: 2 шагов, награда: 0.9\n",
            "  Траектория 4: 2 шагов, награда: 0.0\n",
            "  Траектория 5: 3 шагов, награда: 0.4\n",
            "\n",
            "Оптимальные агенты\n",
            "Среда A: 2 шагов, награда: 0.9\n",
            "Среда B: 1 шагов, награда: 1.0\n",
            "Среда C: 2 шагов, награда: 0.9\n"
          ]
        }
      ]
    },
    {
      "cell_type": "markdown",
      "source": [
        "### Return, expected return\n",
        "\n",
        "Наиболее важная метрика оценки качества работы агента: отдача.\n",
        "\n",
        "Отдача: $G(s_t) = \\sum_{i=t}^T r_i$\n",
        "\n",
        "Обычно также вводят параметр $\\gamma \\in [0, 1]$, дисконтирующий будущие вознаграждения. А еще, тк отдача может меняться от запуска к запуску благодаря вероятностным процессам, нас интересует отдача в среднем — ожидаемая отдача:\n",
        "\n",
        "$$\\hat{G}(s_t) = \\mathbb{E} [ \\sum_{i=t}^T \\gamma^{i-t} r_i ]$$\n",
        "\n",
        "Именно ее и оптимизируют в RL.\n",
        "\n",
        "Давайте научимся считать отдачу для состояний по траектории и считать среднюю отдачу."
      ],
      "metadata": {
        "id": "lxHNM9kS74WW"
      }
    },
    {
      "cell_type": "code",
      "source": [
        "def compute_return(mdp, n_runs=1000, gamma=0.7):\n",
        "    rewards_list = []\n",
        "    for _ in range(n_runs):\n",
        "        tau = run_episode_with_policy(mdp, \"random\", truncation=100)\n",
        "        rewards = [r for _,_,r,_,_ in tau]\n",
        "        rewards_list.append(rewards)\n",
        "\n",
        "    max_len = max(len(r) for r in rewards_list)\n",
        "    total_rewards = np.zeros(max_len)\n",
        "\n",
        "    for rewards in rewards_list:\n",
        "        padded = np.pad(rewards, (0, max_len - len(rewards)), 'constant')\n",
        "        total_rewards += padded\n",
        "\n",
        "    avg_rewards = total_rewards / n_runs\n",
        "    discounts = gamma ** np.arange(max_len)\n",
        "\n",
        "    return np.sum(avg_rewards * discounts)\n",
        "\n",
        "G_hat_A = compute_return(A_mdp)\n",
        "G_hat_B = compute_return(B_mdp)\n",
        "G_hat_C = compute_return(C_mdp)\n",
        "\n",
        "print(f'{G_hat_A=:.3f}')\n",
        "print(f'{G_hat_B=:.3f}')\n",
        "print(f'{G_hat_C=:.3f}')"
      ],
      "metadata": {
        "id": "scdThsNA8T2B",
        "colab": {
          "base_uri": "https://localhost:8080/"
        },
        "outputId": "c6bdb513-9b56-48c4-8de3-33b26b1e9f3e"
      },
      "execution_count": 98,
      "outputs": [
        {
          "output_type": "stream",
          "name": "stdout",
          "text": [
            "G_hat_A=0.600\n",
            "G_hat_B=0.444\n",
            "G_hat_C=-0.004\n"
          ]
        }
      ]
    }
  ]
}